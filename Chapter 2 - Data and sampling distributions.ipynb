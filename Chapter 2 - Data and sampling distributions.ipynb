{
 "cells": [
  {
   "cell_type": "markdown",
   "metadata": {},
   "source": [
    "# Poisson Distribution"
   ]
  },
  {
   "cell_type": "code",
   "execution_count": 13,
   "metadata": {},
   "outputs": [
    {
     "name": "stdout",
     "output_type": "stream",
     "text": [
      "[3 1 4 3 1 4 2 4 3 5 1 1 3 7 1 2 3 2 1 3 0 2 1 1 2 2 2 0 3 2 2 1 2 0 4 2 0\n",
      " 1 4 1 3 1 0 6 2 0 2 2 3 7 3 1 1 3 3 1 3 1 5 1 1 2 4 1 2 3 0 5 2 3 3 3 2 3\n",
      " 1 1 3 4 3 4 2 1 2 2 1 3 0 4 0 1 2 1 1 2 0 1 1 4 1 1]\n",
      "mean 2.14\n"
     ]
    },
    {
     "data": {
      "image/png": "[encoded data removed]",
      "text/plain": [
       "<Figure size 432x288 with 1 Axes>"
      ]
     },
     "metadata": {
      "needs_background": "light"
     },
     "output_type": "display_data"
    }
   ],
   "source": [
    "from scipy import stats\n",
    "import matplotlib.pyplot as plt\n",
    "import numpy as np\n",
    "# mean = 2 events in every segments, size = 100 segment\n",
    "possion_dis = stats.poisson.rvs(mu=2, size=100)\n",
    "print(possion_dis)\n",
    "print(\"mean\", np.mean(possion_dis))\n",
    "plt.hist(possion_dis)\n",
    "plt.show()"
   ]
  },
  {
   "cell_type": "markdown",
   "metadata": {},
   "source": [
    "# Exponential distribution\n",
    "> F(x; lambda) = 1 - e^(-lambda * x)\n",
    "* lambda: rate parameter (calcualte as lambda = 1/muy)\n",
    "* e: constant"
   ]
  },
  {
   "cell_type": "markdown",
   "metadata": {},
   "source": [
    "* Generate exponential distribution"
   ]
  },
  {
   "cell_type": "code",
   "execution_count": 14,
   "metadata": {},
   "outputs": [
    {
     "data": {
      "text/plain": [
       "array([0.47994566, 1.59672955, 0.34507912, 0.54911002, 0.39855197,\n",
       "       0.57949573, 6.0986729 , 1.02303741, 1.4386644 , 5.00913661])"
      ]
     },
     "execution_count": 14,
     "metadata": {},
     "output_type": "execute_result"
    }
   ],
   "source": [
    "from scipy.stats import expon\n",
    "# generate random values from exponential distribution with rate=40 size=10\n",
    "expon.rvs(scale=5, size= 10)"
   ]
  },
  {
   "cell_type": "markdown",
   "metadata": {},
   "source": [
    "* Example: average time between 2 betting request is 30 seconds\n",
    "* lambda = 1/30\n",
    "\n",
    "How to calculate probabitily of waiting less than 40 seconds of betting request?"
   ]
  },
  {
   "cell_type": "code",
   "execution_count": 18,
   "metadata": {},
   "outputs": [
    {
     "data": {
      "text/plain": [
       "0.9999999979388464"
      ]
     },
     "execution_count": 18,
     "metadata": {},
     "output_type": "execute_result"
    }
   ],
   "source": [
    "expon.cdf(x= 100, scale= 5)\n",
    "# probability of waiting for less than 40 seconds for the next betting is 0.736"
   ]
  },
  {
   "cell_type": "markdown",
   "metadata": {},
   "source": [
    "## Plot exponential distribution"
   ]
  },
  {
   "cell_type": "code",
   "execution_count": 15,
   "metadata": {},
   "outputs": [
    {
     "name": "stdout",
     "output_type": "stream",
     "text": [
      "[3.87661601e+00 1.48667184e+00 2.41413476e+00 4.71257353e-01\n",
      " 7.05067977e-02 1.42851576e+01 1.16407744e+00 5.00854274e+00\n",
      " 2.32608361e+00 1.10794087e+01 5.86073605e-01 1.91317815e+01\n",
      " 1.28632336e+01 1.02153714e+00 3.89913758e+00 7.49375208e-01\n",
      " 5.20921040e-01 7.34488963e+00 5.17776403e+00 9.55655537e+00\n",
      " 1.83126157e-01 2.97565724e+00 4.59329569e+00 2.14208238e+00\n",
      " 3.29570887e+00 6.17994627e-01 4.39787614e+00 5.84285622e+00\n",
      " 2.71065198e+00 1.41280644e+00 1.21803099e+00 4.07277304e+00\n",
      " 1.14059519e+00 5.67996437e+00 1.34580025e+00 6.15400866e-01\n",
      " 9.14622096e+00 8.94114913e+00 2.87811695e+00 1.78397468e+00\n",
      " 1.97066440e+00 4.64557253e-01 1.64421895e+00 7.80008035e-01\n",
      " 4.16596908e+00 4.34187347e-02 3.74119352e-02 5.53788592e+00\n",
      " 4.14783662e-01 3.42716472e+00 7.35732909e-01 8.53401247e-01\n",
      " 1.42144292e+00 8.14302690e-01 5.84900148e+00 1.42253226e-02\n",
      " 2.47587805e+00 1.05425162e+01 8.32593157e+00 3.81759971e+00\n",
      " 3.65694866e+00 3.10026576e+00 3.86386957e-01 2.38818964e+01\n",
      " 2.72249710e+00 1.49147395e+01 4.89799133e+00 1.37800510e+00\n",
      " 1.31440779e+00 8.00656060e+00 2.04393181e+00 4.06190477e-01\n",
      " 4.49746973e+00 5.25114762e+00 5.93612555e+00 3.16704788e-01\n",
      " 7.82423633e-01 7.15087635e-01 4.01903423e+00 1.48725992e+01\n",
      " 8.74221208e+00 1.05657778e+00 2.59613451e-01 3.41113426e+00\n",
      " 7.43570436e-01 1.81285652e+00 2.00950273e+00 1.08600725e+01\n",
      " 4.52087305e+00 1.06430668e+01 3.07204028e-01 8.28018893e+00\n",
      " 1.59310721e+01 4.69806530e-01 5.58685083e+00 8.95801421e-01\n",
      " 1.77399595e-01 2.23523529e+00 1.55162843e+00 2.53968192e+00]\n"
     ]
    },
    {
     "data": {
      "image/png": "[encoded data removed]",
      "text/plain": [
       "<Figure size 432x288 with 1 Axes>"
      ]
     },
     "metadata": {
      "needs_background": "light"
     },
     "output_type": "display_data"
    }
   ],
   "source": [
    "import  matplotlib.pyplot as plt\n",
    "expon_dis = expon.rvs(scale=5, size=100)\n",
    "print(expon_dis)\n",
    "plt.hist(expon_dis, density=True, edgecolor='black')\n",
    "plt.show()"
   ]
  },
  {
   "cell_type": "code",
   "execution_count": null,
   "metadata": {},
   "outputs": [],
   "source": []
  },
  {
   "cell_type": "code",
   "execution_count": null,
   "metadata": {},
   "outputs": [],
   "source": []
  }
 ],
 "metadata": {
  "interpreter": {
   "hash": "797df4c0a4b4c3b9329ccca83cac08a3b174d912b46e583a34dbd738cef3903d"
  },
  "kernelspec": {
   "display_name": "Python 3.9.2 ('dl')",
   "language": "python",
   "name": "python3"
  },
  "language_info": {
   "codemirror_mode": {
    "name": "ipython",
    "version": 3
   },
   "file_extension": ".py",
   "mimetype": "text/x-python",
   "name": "python",
   "nbconvert_exporter": "python",
   "pygments_lexer": "ipython3",
   "version": "3.9.2"
  },
  "orig_nbformat": 4
 },
 "nbformat": 4,
 "nbformat_minor": 2
}
